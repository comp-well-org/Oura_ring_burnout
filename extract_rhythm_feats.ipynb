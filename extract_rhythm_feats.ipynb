{
 "cells": [
  {
   "cell_type": "code",
   "execution_count": 1,
   "metadata": {},
   "outputs": [],
   "source": [
    "import pandas as pd"
   ]
  },
  {
   "cell_type": "code",
   "execution_count": 3,
   "metadata": {},
   "outputs": [],
   "source": [
    "# Load the hourly data\n",
    "file_path = '../Studies/oura_feats_bin01_23_hourly.csv'\n",
    "hourly_data = pd.read_csv(file_path)\n",
    "\n",
    "# Convert 'hour' to datetime and set it as the index\n",
    "hourly_data['hour'] = pd.to_datetime(hourly_data['hour'])\n",
    "hourly_data.set_index('hour', inplace=True)\n",
    "\n",
    "# Interpolate missing values linearly\n",
    "hourly_data.interpolate(method='linear', inplace=True)\n",
    "\n",
    "# Forward fill and backward fill\n",
    "hourly_data.fillna(method='ffill', inplace=True)\n",
    "hourly_data.fillna(method='bfill', inplace=True)\n",
    "\n",
    "# Identify and remove participants or days with excessive missing data\n",
    "missing_data_threshold = 0.5  # 50% threshold\n",
    "grouped_data = hourly_data.groupby([hourly_data.index.date, 'participant_id']).apply(\n",
    "    lambda group: group.isna().mean()\n",
    ")\n",
    "excessive_missing_data = grouped_data[grouped_data > missing_data_threshold].dropna(how='all')\n",
    "\n",
    "# Handle days with excessive missing data (if any)\n",
    "\n",
    "# Prepare the final datasets\n",
    "# Dataset with imputed values\n",
    "# hourly_data.to_csv('/path/to/amed_clean_hour_template.csv')\n",
    "\n",
    "# Dataset with missing values imputed as zeros\n",
    "hour_data_zeros = hourly_data.fillna(0)\n",
    "# hour_data_zeros.to_csv('/path/to/amed_clean_hour_zeros.csv')\n"
   ]
  },
  {
   "cell_type": "code",
   "execution_count": null,
   "metadata": {},
   "outputs": [],
   "source": []
  }
 ],
 "metadata": {
  "kernelspec": {
   "display_name": "general_dl",
   "language": "python",
   "name": "python3"
  },
  "language_info": {
   "codemirror_mode": {
    "name": "ipython",
    "version": 3
   },
   "file_extension": ".py",
   "mimetype": "text/x-python",
   "name": "python",
   "nbconvert_exporter": "python",
   "pygments_lexer": "ipython3",
   "version": "3.7.13"
  },
  "orig_nbformat": 4
 },
 "nbformat": 4,
 "nbformat_minor": 2
}
